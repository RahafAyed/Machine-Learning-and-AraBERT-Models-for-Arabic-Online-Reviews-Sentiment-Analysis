{
 "cells": [
  {
   "cell_type": "code",
   "execution_count": 3,
   "id": "696ecb42",
   "metadata": {},
   "outputs": [],
   "source": [
    "from pandas import read_csv\n",
    "from imblearn.over_sampling import SMOTE\n",
    "from collections import Counter\n",
    "from matplotlib import pyplot\n",
    "from sklearn.preprocessing import LabelEncoder\n",
    "import numpy as np\n",
    "import pandas as pd\n",
    "import matplotlib.pyplot as plt\n",
    "import seaborn as sns"
   ]
  },
  {
   "cell_type": "markdown",
   "id": "3b4502ee",
   "metadata": {},
   "source": [
    "##### Resample Dataset to be Balanced Data, resize the higher data class to the smaller size"
   ]
  },
  {
   "cell_type": "code",
   "execution_count": 44,
   "id": "31a6035e",
   "metadata": {},
   "outputs": [
    {
     "data": {
      "text/html": [
       "<div>\n",
       "<style scoped>\n",
       "    .dataframe tbody tr th:only-of-type {\n",
       "        vertical-align: middle;\n",
       "    }\n",
       "\n",
       "    .dataframe tbody tr th {\n",
       "        vertical-align: top;\n",
       "    }\n",
       "\n",
       "    .dataframe thead th {\n",
       "        text-align: right;\n",
       "    }\n",
       "</style>\n",
       "<table border=\"1\" class=\"dataframe\">\n",
       "  <thead>\n",
       "    <tr style=\"text-align: right;\">\n",
       "      <th></th>\n",
       "      <th>text</th>\n",
       "      <th>polarity</th>\n",
       "    </tr>\n",
       "  </thead>\n",
       "  <tbody>\n",
       "    <tr>\n",
       "      <th>0</th>\n",
       "      <td>ممتازه بصراحه مريحه خاصتا الخرجات الي عربيه</td>\n",
       "      <td>1</td>\n",
       "    </tr>\n",
       "    <tr>\n",
       "      <th>1</th>\n",
       "      <td>عملي</td>\n",
       "      <td>1</td>\n",
       "    </tr>\n",
       "    <tr>\n",
       "      <th>2</th>\n",
       "      <td>جيد نوع</td>\n",
       "      <td>0</td>\n",
       "    </tr>\n",
       "    <tr>\n",
       "      <th>3</th>\n",
       "      <td>اشتريت السلعه ودفعت ثمنها الماستر كارد وتم ابل...</td>\n",
       "      <td>-1</td>\n",
       "    </tr>\n",
       "    <tr>\n",
       "      <th>4</th>\n",
       "      <td>شنطه جميله وانيقه وسعرها مناسب جدا</td>\n",
       "      <td>-1</td>\n",
       "    </tr>\n",
       "  </tbody>\n",
       "</table>\n",
       "</div>"
      ],
      "text/plain": [
       "                                                text  polarity\n",
       "0        ممتازه بصراحه مريحه خاصتا الخرجات الي عربيه         1\n",
       "1                                               عملي         1\n",
       "2                                            جيد نوع         0\n",
       "3  اشتريت السلعه ودفعت ثمنها الماستر كارد وتم ابل...        -1\n",
       "4                 شنطه جميله وانيقه وسعرها مناسب جدا        -1"
      ]
     },
     "execution_count": 44,
     "metadata": {},
     "output_type": "execute_result"
    }
   ],
   "source": [
    "df = pd.read_csv(\"C:/Users/raimn/mlproject/PROD3.csv\")\n",
    "df.head()"
   ]
  },
  {
   "cell_type": "code",
   "execution_count": 45,
   "id": "be915346",
   "metadata": {},
   "outputs": [
    {
     "data": {
      "image/png": "[encoded data removed]",
      "text/plain": [
       "<Figure size 432x288 with 1 Axes>"
      ]
     },
     "metadata": {
      "needs_background": "light"
     },
     "output_type": "display_data"
    }
   ],
   "source": [
    "df['polarity'].value_counts().plot(kind='bar');"
   ]
  },
  {
   "cell_type": "code",
   "execution_count": 46,
   "id": "eb8cbd34",
   "metadata": {},
   "outputs": [
    {
     "data": {
      "text/plain": [
       " 1    2883\n",
       "-1     807\n",
       " 0     285\n",
       "Name: polarity, dtype: int64"
      ]
     },
     "execution_count": 46,
     "metadata": {},
     "output_type": "execute_result"
    }
   ],
   "source": [
    "df.polarity.value_counts()"
   ]
  },
  {
   "cell_type": "code",
   "execution_count": 38,
   "id": "d4e947d6",
   "metadata": {},
   "outputs": [
    {
     "name": "stdout",
     "output_type": "stream",
     "text": [
      "class 1: (2883, 2)\n",
      "class 0: (806, 2)\n"
     ]
    }
   ],
   "source": [
    "# class count\n",
    "classCount_1,  classCount_0 = df['polarity'].value_counts()\n",
    "\n",
    "# Separate class\n",
    "class_1 = df[df['polarity'] == 1]\n",
    " # print the shape of the class\n",
    "class_0 = df[df['polarity'] == 0]\n",
    "print('class 1:', class_1.shape)\n",
    "print('class 0:', class_0.shape)"
   ]
  },
  {
   "cell_type": "code",
   "execution_count": 40,
   "id": "3acab05e",
   "metadata": {},
   "outputs": [
    {
     "name": "stdout",
     "output_type": "stream",
     "text": [
      "total class of 1 and0: 0    806\n",
      "1    806\n",
      "Name: polarity, dtype: int64\n"
     ]
    },
    {
     "data": {
      "text/plain": [
       "<AxesSubplot:title={'center':'count (target)'}>"
      ]
     },
     "execution_count": 40,
     "metadata": {},
     "output_type": "execute_result"
    },
    {
     "data": {
      "image/png": "[encoded data removed]",
      "text/plain": [
       "<Figure size 432x288 with 1 Axes>"
      ]
     },
     "metadata": {
      "needs_background": "light"
     },
     "output_type": "display_data"
    }
   ],
   "source": [
    "class1_under = class_1.sample(classCount_0)\n",
    "\n",
    "data_after_under = pd.concat([class1_under,  class_0], axis=0)\n",
    "\n",
    "print(\"total class of 1 and0:\",data_after_under['polarity'].value_counts())\n",
    "# plot the count after under-sampeling\n",
    "data_after_under['polarity'].value_counts().plot(kind='bar', title='count (target)')"
   ]
  },
  {
   "cell_type": "code",
   "execution_count": 43,
   "id": "05d87fd9",
   "metadata": {},
   "outputs": [],
   "source": [
    "data_after_under.shape\n",
    "data_after_under.to_csv('C:/Users/raimn/mlproject/PRODunder.csv', index=False, encoding='utf-8')"
   ]
  }
 ],
 "metadata": {
  "kernelspec": {
   "display_name": "Python 3",
   "language": "python",
   "name": "python3"
  },
  "language_info": {
   "codemirror_mode": {
    "name": "ipython",
    "version": 3
   },
   "file_extension": ".py",
   "mimetype": "text/x-python",
   "name": "python",
   "nbconvert_exporter": "python",
   "pygments_lexer": "ipython3",
   "version": "3.8.8"
  }
 },
 "nbformat": 4,
 "nbformat_minor": 5
}
